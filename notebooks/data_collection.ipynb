{
 "cells": [
  {
   "cell_type": "markdown",
   "id": "d9ed412c",
   "metadata": {},
   "source": [
    "# Data collection\n",
    "\n",
    "As my goal is to learn data science, I want to use only data provided directly by Riot Games, the developers of League of Legends. I will utilize their API to extract data, ensuring that the data is as raw and unprocessed as possible.\n",
    "\n",
    "Note: Riot's API key for amateur developers is only valid for 24 hours after generation. Please remember to refresh your key regularly and store it in the `.env` file to ensure the project's code functions correctly."
   ]
  }
 ],
 "metadata": {
  "language_info": {
   "name": "python"
  }
 },
 "nbformat": 4,
 "nbformat_minor": 5
}
