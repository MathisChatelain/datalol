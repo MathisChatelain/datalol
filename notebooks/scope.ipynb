{
 "cells": [
  {
   "cell_type": "markdown",
   "id": "1cae91b8",
   "metadata": {},
   "source": [
    "# Scope\n",
    "\n",
    "This project is a case study on League of Legends. As a beginner in data science, I aim to limit the scope of the project to data that is easier for me to understand, process, and analyze, ensuring a more manageable and focused learning experience.\n",
    "\n",
    "## Region / Server\n",
    "\n",
    "I primarily played on the EUW (Europe West) servers. Each League of Legends server has its own unique \"culture\" and meta, influenced by regional factors. Starting with the server I am most familiar with will make it easier to account for these influences. As I improve my data science skills, I plan to expand the analysis to include other servers.\n",
    "\n",
    "UPGRADE : add support for any region / server\n",
    "\n",
    "## Season\n",
    "\n",
    "League's ranked system is divided into seasons, and between each season, the MMR (Matchmaking Rating) and rank are partially or fully reset. For this analysis, I will initially focus on the most recently completed season available (the third season of 2024 at the time of writing).\n",
    "\n",
    "UPGRADE : add support for any season\n",
    "\n",
    "## Players\n",
    "\n",
    "### Active players\n",
    "For this study, I want to focus on active ranked players, defining them as those who play 50 or more games in a season. This definition is based on my personal experience with the game. League of Legends has significant depth in terms of knowledge, skills, and gameplay, and in my opinion, a player typically requires at least 50 games to reach their primary rank for the season.\n",
    "\n",
    "### Smurfs / Scripters\n",
    "League of Legends faces challenges with smurfs (high-skill players using low-ranked accounts) and scripters (players using automated tools to cheat), which can distort the integrity of the data. If a list of banned players is available, I will use it to filter them out of the dataset to ensure more accurate analysis. Additionally, I believe the 50-game threshold will help exclude many smurfs and scripters, as they are less likely to invest the time required to play that many games on a single \"fun\" account.\n",
    "\n",
    "## Queue\n",
    "I will focus on Solo/Duo queue, as it is the primary and most competitive ranked mode in League of Legends, where players tend to take the game more seriously."
   ]
  }
 ],
 "metadata": {
  "language_info": {
   "name": "python"
  }
 },
 "nbformat": 4,
 "nbformat_minor": 5
}
