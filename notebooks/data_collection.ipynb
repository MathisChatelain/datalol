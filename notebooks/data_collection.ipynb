{
 "cells": [
  {
   "cell_type": "markdown",
   "id": "d9ed412c",
   "metadata": {},
   "source": [
    "# Data collection\n",
    "\n",
    "As my goal is to learn data science, I want to use only data provided directly by Riot Games, the developers of League of Legends. I will utilize their API to extract data, ensuring that the data is as raw and unprocessed as possible.\n",
    "\n",
    "Notes: \n",
    "-   Riot's API key for amateur developers is only valid for 24 hours after generation. Please remember to refresh your key regularly and store it in the `.env` file to ensure the project's code functions correctly.\n",
    "-   The limit rate for requests is 20/seconds and 50/minutes"
   ]
  },
  {
   "cell_type": "markdown",
   "id": "353cca7e",
   "metadata": {},
   "source": [
    "## First API call and size estimate\n",
    "\n",
    "Since the request rate is limited by frequency and size, a good starting point for this project's data collection would be to estimate the volume of data needed. Refer to the [Scope Notebook](scope.ipynb) for more details about the project's scope.\n",
    "\n",
    "It will also be a good time to get familiar with the API."
   ]
  },
  {
   "cell_type": "code",
   "execution_count": null,
   "id": "fab4e57b",
   "metadata": {},
   "outputs": [
    {
     "name": "stdout",
     "output_type": "stream",
     "text": [
      "Note: you may need to restart the kernel to use updated packages.\n"
     ]
    },
    {
     "name": "stderr",
     "output_type": "stream",
     "text": [
      "WARNING: Ignoring invalid distribution -qlparse (c:\\users\\zaeld\\appdata\\local\\packages\\pythonsoftwarefoundation.python.3.10_qbz5n2kfra8p0\\localcache\\local-packages\\python310\\site-packages)\n",
      "ERROR: Could not open requirements file: [Errno 2] No such file or directory: 'requirements.txt'\n",
      "WARNING: Ignoring invalid distribution -qlparse (c:\\users\\zaeld\\appdata\\local\\packages\\pythonsoftwarefoundation.python.3.10_qbz5n2kfra8p0\\localcache\\local-packages\\python310\\site-packages)\n",
      "WARNING: Ignoring invalid distribution -qlparse (c:\\users\\zaeld\\appdata\\local\\packages\\pythonsoftwarefoundation.python.3.10_qbz5n2kfra8p0\\localcache\\local-packages\\python310\\site-packages)\n",
      "WARNING: Ignoring invalid distribution -qlparse (c:\\users\\zaeld\\appdata\\local\\packages\\pythonsoftwarefoundation.python.3.10_qbz5n2kfra8p0\\localcache\\local-packages\\python310\\site-packages)\n",
      "\n",
      "[notice] A new release of pip is available: 23.0.1 -> 25.0.1\n",
      "[notice] To update, run: C:\\Users\\zaeld\\AppData\\Local\\Microsoft\\WindowsApps\\PythonSoftwareFoundation.Python.3.10_qbz5n2kfra8p0\\python.exe -m pip install --upgrade pip\n"
     ]
    },
    {
     "ename": "ModuleNotFoundError",
     "evalue": "No module named 'requests'",
     "output_type": "error",
     "traceback": [
      "\u001b[1;31m---------------------------------------------------------------------------\u001b[0m",
      "\u001b[1;31mModuleNotFoundError\u001b[0m                       Traceback (most recent call last)",
      "Cell \u001b[1;32mIn[4], line 2\u001b[0m\n\u001b[0;32m      1\u001b[0m get_ipython()\u001b[38;5;241m.\u001b[39mrun_line_magic(\u001b[38;5;124m'\u001b[39m\u001b[38;5;124mpip\u001b[39m\u001b[38;5;124m'\u001b[39m, \u001b[38;5;124m'\u001b[39m\u001b[38;5;124minstall requests -r requirements.txt\u001b[39m\u001b[38;5;124m'\u001b[39m)\n\u001b[1;32m----> 2\u001b[0m \u001b[38;5;28;01mfrom\u001b[39;00m\u001b[38;5;250m \u001b[39m\u001b[38;5;21;01mrequests\u001b[39;00m\u001b[38;5;250m \u001b[39m\u001b[38;5;28;01mimport\u001b[39;00m request\n\u001b[0;32m      5\u001b[0m \u001b[38;5;28;01mimport\u001b[39;00m\u001b[38;5;250m \u001b[39m\u001b[38;5;21;01mjson\u001b[39;00m\n\u001b[0;32m      6\u001b[0m \u001b[38;5;28;01mimport\u001b[39;00m\u001b[38;5;250m \u001b[39m\u001b[38;5;21;01mos\u001b[39;00m\n",
      "\u001b[1;31mModuleNotFoundError\u001b[0m: No module named 'requests'"
     ]
    }
   ],
   "source": [
    "%pip install requests -r requirements.txt\n",
    "from requests import request\n",
    "\n",
    "\n",
    "import json\n",
    "import os\n",
    "\n",
    "API_KEY = os.getenv(\"RIOT_API_KEY\")\n",
    "QUEUE = \"RANKED_SOLO_5x5\"\n",
    "REGION = \"euw1\"\n",
    "TIER = \"EMERALD\"                    # BRONZE, SILVER, GOLD, PLATINUM, DIAMOND, EMERALD, MASTER, GRANDMASTER, CHALLENGER\n",
    "DIVISION = \"I\"                      # I, II, III, IV\n",
    "PAGE = \"1\"\n",
    "\n",
    "\n",
    "response = request(\n",
    "    method=\"GET\",\n",
    "    url=f\"https://{REGION}.api.riotgames.com/lol/league/v4/entries/{QUEUE}/{TIER}/{DIVISION}?page=1&api_key={API_KEY}\",\n",
    "    headers={\n",
    "        \"Accept\": \"application/json\",\n",
    "        \"Content-Type\": \"application/json\",\n",
    "    },\n",
    ") \n",
    "\n",
    "print(response.status_code)\n",
    "if response.status_code == 200:\n",
    "    data = response.json()\n",
    "    print(json.dumps(data, indent=4))\n",
    "else:\n",
    "    print(f\"Error: {response.status_code}\")\n",
    "    print(response.text)\n",
    "    # Handle the error as needed"
   ]
  }
 ],
 "metadata": {
  "kernelspec": {
   "display_name": "Python 3",
   "language": "python",
   "name": "python3"
  },
  "language_info": {
   "codemirror_mode": {
    "name": "ipython",
    "version": 3
   },
   "file_extension": ".py",
   "mimetype": "text/x-python",
   "name": "python",
   "nbconvert_exporter": "python",
   "pygments_lexer": "ipython3",
   "version": "3.10.11"
  }
 },
 "nbformat": 4,
 "nbformat_minor": 5
}
