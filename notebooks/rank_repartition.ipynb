{
 "cells": [
  {
   "cell_type": "markdown",
   "metadata": {},
   "source": [
    "# Rank repartition\n",
    "\n",
    "This notebook is intended for exploring the data fetched from the riot games api in the [Data collection Notebook](data_collection.ipynb).\n",
    "\n",
    "This will be my first time using intensively a vizualisation library in python, I will be using [Vega Altair](https://altair-viz.github.io/) since it integrates really well with notebooks from what I heard. Also it is build around pandas Dataframe so I hope to get more knowledge of pandas by working with vega altair."
   ]
  },
  {
   "cell_type": "code",
   "execution_count": null,
   "metadata": {},
   "outputs": [],
   "source": [
    "import sqlite3\n",
    "import os\n",
    "import pandas as pd\n",
    "import altair as alt\n",
    "\n",
    "\n",
    "def query_player_count_by_rank(db_path):\n",
    "    \"\"\"\n",
    "    Queries the number of players grouped by rank from the database.\n",
    "    \"\"\"\n",
    "\n",
    "    if not os.path.exists(db_path):\n",
    "        raise FileNotFoundError(f\"Database file not found: {db_path}\")\n",
    "\n",
    "    conn = sqlite3.connect(db_path)\n",
    "    \n",
    "    try:\n",
    "        cursor = conn.cursor()\n",
    "        cursor.execute(\"SELECT tier, rank, COUNT(*) FROM ranked_players GROUP BY tier, rank ORDER BY tier, rank DESC\")\n",
    "        count = cursor.fetchall()\n",
    "        \n",
    "        return count\n",
    "    finally:\n",
    "        # Close the database connection\n",
    "        conn.close()\n",
    "\n",
    "\n",
    "if __name__ == \"__main__\":\n",
    "    # Example usage\n",
    "    db_path = \"ranked_players_copy.db\"  # Replace with your database path\n",
    "    try:\n",
    "        players_by_rank = query_player_count_by_rank(db_path)\n",
    "        data = pd.DataFrame({\n",
    "            'tier_rank': [f\"{x[0]} {x[1]}\" for x in players_by_rank],\n",
    "            'count': [x[2] for x in players_by_rank]\n",
    "        })\n",
    "        chart = alt.Chart(data).mark_bar().encode(\n",
    "            x='tier_rank',\n",
    "            y='count',\n",
    "        )\n",
    "\n",
    "        \n",
    "    except Exception as e:\n",
    "        print(f\"An error occurred: {e}\")\n"
   ]
  }
 ],
 "metadata": {
  "kernelspec": {
   "display_name": ".venv",
   "language": "python",
   "name": "python3"
  },
  "language_info": {
   "codemirror_mode": {
    "name": "ipython",
    "version": 3
   },
   "file_extension": ".py",
   "mimetype": "text/x-python",
   "name": "python",
   "nbconvert_exporter": "python",
   "pygments_lexer": "ipython3",
   "version": "3.12.1"
  }
 },
 "nbformat": 4,
 "nbformat_minor": 4
}
